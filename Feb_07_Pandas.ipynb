{
 "cells": [
  {
   "cell_type": "code",
   "execution_count": 1,
   "id": "8ef92a1a",
   "metadata": {},
   "outputs": [],
   "source": [
    "# Pandas is a open source library, used for Data Structure"
   ]
  },
  {
   "cell_type": "code",
   "execution_count": 2,
   "id": "268d6aca",
   "metadata": {},
   "outputs": [],
   "source": [
    "# importing libraries\n",
    "\n",
    "import numpy as np\n",
    "import pandas as pd"
   ]
  },
  {
   "cell_type": "code",
   "execution_count": 3,
   "id": "06e17166",
   "metadata": {},
   "outputs": [],
   "source": [
    "labels = ['a','b','c']"
   ]
  },
  {
   "cell_type": "code",
   "execution_count": 4,
   "id": "260591fc",
   "metadata": {},
   "outputs": [
    {
     "data": {
      "text/plain": [
       "['a', 'b', 'c']"
      ]
     },
     "execution_count": 4,
     "metadata": {},
     "output_type": "execute_result"
    }
   ],
   "source": [
    "labels"
   ]
  },
  {
   "cell_type": "code",
   "execution_count": 5,
   "id": "5bf4db95",
   "metadata": {},
   "outputs": [],
   "source": [
    "my_data = [10,20,30]"
   ]
  },
  {
   "cell_type": "code",
   "execution_count": 6,
   "id": "79fff0e8",
   "metadata": {},
   "outputs": [
    {
     "data": {
      "text/plain": [
       "[10, 20, 30]"
      ]
     },
     "execution_count": 6,
     "metadata": {},
     "output_type": "execute_result"
    }
   ],
   "source": [
    "my_data"
   ]
  },
  {
   "cell_type": "code",
   "execution_count": 8,
   "id": "9191d14f",
   "metadata": {},
   "outputs": [],
   "source": [
    "arr = np.array([50,60,70])"
   ]
  },
  {
   "cell_type": "code",
   "execution_count": 9,
   "id": "e8af215e",
   "metadata": {},
   "outputs": [
    {
     "data": {
      "text/plain": [
       "array([50, 60, 70])"
      ]
     },
     "execution_count": 9,
     "metadata": {},
     "output_type": "execute_result"
    }
   ],
   "source": [
    "arr"
   ]
  },
  {
   "cell_type": "code",
   "execution_count": 10,
   "id": "8d238ce6",
   "metadata": {},
   "outputs": [],
   "source": [
    "# dictionaries\n",
    "d ={'x':80,'y':90,'z':50}"
   ]
  },
  {
   "cell_type": "code",
   "execution_count": 11,
   "id": "c273469f",
   "metadata": {},
   "outputs": [
    {
     "data": {
      "text/plain": [
       "{'x': 80, 'y': 90, 'z': 50}"
      ]
     },
     "execution_count": 11,
     "metadata": {},
     "output_type": "execute_result"
    }
   ],
   "source": [
    "d"
   ]
  },
  {
   "cell_type": "code",
   "execution_count": 13,
   "id": "ee13f705",
   "metadata": {},
   "outputs": [],
   "source": [
    "# Series are 1 dimensional\n",
    "\n",
    "ser1 = pd.Series(data=my_data)"
   ]
  },
  {
   "cell_type": "code",
   "execution_count": 15,
   "id": "681b4858",
   "metadata": {},
   "outputs": [
    {
     "data": {
      "text/plain": [
       "0    10\n",
       "1    20\n",
       "2    30\n",
       "dtype: int64"
      ]
     },
     "execution_count": 15,
     "metadata": {},
     "output_type": "execute_result"
    }
   ],
   "source": [
    "ser1"
   ]
  },
  {
   "cell_type": "code",
   "execution_count": 16,
   "id": "00452e57",
   "metadata": {},
   "outputs": [
    {
     "data": {
      "text/plain": [
       "pandas.core.series.Series"
      ]
     },
     "execution_count": 16,
     "metadata": {},
     "output_type": "execute_result"
    }
   ],
   "source": [
    "type(ser1)"
   ]
  },
  {
   "cell_type": "code",
   "execution_count": 19,
   "id": "ebb76cc0",
   "metadata": {},
   "outputs": [
    {
     "data": {
      "text/plain": [
       "0    10\n",
       "1    20\n",
       "2    30\n",
       "dtype: int64"
      ]
     },
     "execution_count": 19,
     "metadata": {},
     "output_type": "execute_result"
    }
   ],
   "source": [
    "ser1"
   ]
  },
  {
   "cell_type": "code",
   "execution_count": 20,
   "id": "c70669b6",
   "metadata": {},
   "outputs": [],
   "source": [
    "ser2 =pd.Series(data=my_data,index=labels)"
   ]
  },
  {
   "cell_type": "code",
   "execution_count": 21,
   "id": "77cfe48f",
   "metadata": {},
   "outputs": [
    {
     "data": {
      "text/plain": [
       "a    10\n",
       "b    20\n",
       "c    30\n",
       "dtype: int64"
      ]
     },
     "execution_count": 21,
     "metadata": {},
     "output_type": "execute_result"
    }
   ],
   "source": [
    "ser2"
   ]
  },
  {
   "cell_type": "code",
   "execution_count": 22,
   "id": "11dddea9",
   "metadata": {},
   "outputs": [],
   "source": [
    "ser3 = pd.Series(data=arr)"
   ]
  },
  {
   "cell_type": "code",
   "execution_count": 23,
   "id": "0ce61f23",
   "metadata": {},
   "outputs": [
    {
     "data": {
      "text/plain": [
       "0    50\n",
       "1    60\n",
       "2    70\n",
       "dtype: int32"
      ]
     },
     "execution_count": 23,
     "metadata": {},
     "output_type": "execute_result"
    }
   ],
   "source": [
    "ser3"
   ]
  },
  {
   "cell_type": "code",
   "execution_count": 24,
   "id": "d69d1835",
   "metadata": {},
   "outputs": [],
   "source": [
    "ser4 =pd.Series(d)"
   ]
  },
  {
   "cell_type": "code",
   "execution_count": 25,
   "id": "85f92b10",
   "metadata": {},
   "outputs": [
    {
     "data": {
      "text/plain": [
       "x    80\n",
       "y    90\n",
       "z    50\n",
       "dtype: int64"
      ]
     },
     "execution_count": 25,
     "metadata": {},
     "output_type": "execute_result"
    }
   ],
   "source": [
    "ser4"
   ]
  },
  {
   "cell_type": "code",
   "execution_count": 26,
   "id": "d1466323",
   "metadata": {},
   "outputs": [],
   "source": [
    "ser5 =pd.Series([10,20,30,40,50])"
   ]
  },
  {
   "cell_type": "code",
   "execution_count": 27,
   "id": "739294c9",
   "metadata": {},
   "outputs": [
    {
     "data": {
      "text/plain": [
       "0    10\n",
       "1    20\n",
       "2    30\n",
       "3    40\n",
       "4    50\n",
       "dtype: int64"
      ]
     },
     "execution_count": 27,
     "metadata": {},
     "output_type": "execute_result"
    }
   ],
   "source": [
    "ser5"
   ]
  },
  {
   "cell_type": "code",
   "execution_count": 28,
   "id": "1ed7f98e",
   "metadata": {},
   "outputs": [],
   "source": [
    "# Dataframes are 2D (rows,columns)"
   ]
  },
  {
   "cell_type": "code",
   "execution_count": 29,
   "id": "a8e04a1b",
   "metadata": {},
   "outputs": [
    {
     "data": {
      "text/plain": [
       "array([0.16190203, 0.97868306])"
      ]
     },
     "execution_count": 29,
     "metadata": {},
     "output_type": "execute_result"
    }
   ],
   "source": [
    "np.random.rand(2)"
   ]
  },
  {
   "cell_type": "code",
   "execution_count": 30,
   "id": "8a8fb40a",
   "metadata": {},
   "outputs": [
    {
     "data": {
      "text/plain": [
       "array([[0.66180968],\n",
       "       [0.9395947 ]])"
      ]
     },
     "execution_count": 30,
     "metadata": {},
     "output_type": "execute_result"
    }
   ],
   "source": [
    "np.random.rand(2,1)"
   ]
  },
  {
   "cell_type": "code",
   "execution_count": 31,
   "id": "4d959fec",
   "metadata": {},
   "outputs": [
    {
     "data": {
      "text/plain": [
       "array([[0.00908736, 0.317848  ],\n",
       "       [0.30778494, 0.85999936]])"
      ]
     },
     "execution_count": 31,
     "metadata": {},
     "output_type": "execute_result"
    }
   ],
   "source": [
    "np.random.rand(2,2)"
   ]
  },
  {
   "cell_type": "code",
   "execution_count": 32,
   "id": "bc1eaf7e",
   "metadata": {},
   "outputs": [
    {
     "data": {
      "text/plain": [
       "array([[0.25389246],\n",
       "       [0.53363555],\n",
       "       [0.51561835],\n",
       "       [0.95973385],\n",
       "       [0.62841279]])"
      ]
     },
     "execution_count": 32,
     "metadata": {},
     "output_type": "execute_result"
    }
   ],
   "source": [
    "np.random.rand(5,1)"
   ]
  },
  {
   "cell_type": "code",
   "execution_count": 33,
   "id": "3888b8a3",
   "metadata": {},
   "outputs": [
    {
     "data": {
      "text/plain": [
       "array([[0.8739192 , 0.89775794, 0.36673043, 0.42868097, 0.40683788,\n",
       "        0.875338  ],\n",
       "       [0.285195  , 0.17541249, 0.57672661, 0.7711274 , 0.35089081,\n",
       "        0.50636325],\n",
       "       [0.28127184, 0.79581738, 0.65899444, 0.3547234 , 0.34189369,\n",
       "        0.93509838],\n",
       "       [0.87417053, 0.01774672, 0.71906483, 0.82797136, 0.35484466,\n",
       "        0.37731106],\n",
       "       [0.57856109, 0.01944838, 0.93170977, 0.52095887, 0.5591122 ,\n",
       "        0.5393365 ]])"
      ]
     },
     "execution_count": 33,
     "metadata": {},
     "output_type": "execute_result"
    }
   ],
   "source": [
    "np.random.rand(5,6)"
   ]
  },
  {
   "cell_type": "code",
   "execution_count": 34,
   "id": "76ced232",
   "metadata": {},
   "outputs": [
    {
     "data": {
      "text/plain": [
       "array([[0.13482686, 0.60531841, 0.93364161, 0.43640116],\n",
       "       [0.45495052, 0.93294535, 0.39435631, 0.49283812],\n",
       "       [0.13745134, 0.60163673, 0.12105012, 0.12122497]])"
      ]
     },
     "execution_count": 34,
     "metadata": {},
     "output_type": "execute_result"
    }
   ],
   "source": [
    "np.random.rand(3,4)"
   ]
  },
  {
   "cell_type": "code",
   "execution_count": 35,
   "id": "f169ec6c",
   "metadata": {},
   "outputs": [],
   "source": [
    "df =pd.DataFrame(np.random.rand(5,4))"
   ]
  },
  {
   "cell_type": "code",
   "execution_count": 36,
   "id": "6c6b8f25",
   "metadata": {},
   "outputs": [
    {
     "data": {
      "text/html": [
       "<div>\n",
       "<style scoped>\n",
       "    .dataframe tbody tr th:only-of-type {\n",
       "        vertical-align: middle;\n",
       "    }\n",
       "\n",
       "    .dataframe tbody tr th {\n",
       "        vertical-align: top;\n",
       "    }\n",
       "\n",
       "    .dataframe thead th {\n",
       "        text-align: right;\n",
       "    }\n",
       "</style>\n",
       "<table border=\"1\" class=\"dataframe\">\n",
       "  <thead>\n",
       "    <tr style=\"text-align: right;\">\n",
       "      <th></th>\n",
       "      <th>0</th>\n",
       "      <th>1</th>\n",
       "      <th>2</th>\n",
       "      <th>3</th>\n",
       "    </tr>\n",
       "  </thead>\n",
       "  <tbody>\n",
       "    <tr>\n",
       "      <th>0</th>\n",
       "      <td>0.987135</td>\n",
       "      <td>0.913239</td>\n",
       "      <td>0.665351</td>\n",
       "      <td>0.682191</td>\n",
       "    </tr>\n",
       "    <tr>\n",
       "      <th>1</th>\n",
       "      <td>0.001142</td>\n",
       "      <td>0.462617</td>\n",
       "      <td>0.901907</td>\n",
       "      <td>0.838508</td>\n",
       "    </tr>\n",
       "    <tr>\n",
       "      <th>2</th>\n",
       "      <td>0.184595</td>\n",
       "      <td>0.599866</td>\n",
       "      <td>0.369625</td>\n",
       "      <td>0.661417</td>\n",
       "    </tr>\n",
       "    <tr>\n",
       "      <th>3</th>\n",
       "      <td>0.161397</td>\n",
       "      <td>0.530607</td>\n",
       "      <td>0.594128</td>\n",
       "      <td>0.264383</td>\n",
       "    </tr>\n",
       "    <tr>\n",
       "      <th>4</th>\n",
       "      <td>0.357020</td>\n",
       "      <td>0.814967</td>\n",
       "      <td>0.993498</td>\n",
       "      <td>0.997930</td>\n",
       "    </tr>\n",
       "  </tbody>\n",
       "</table>\n",
       "</div>"
      ],
      "text/plain": [
       "          0         1         2         3\n",
       "0  0.987135  0.913239  0.665351  0.682191\n",
       "1  0.001142  0.462617  0.901907  0.838508\n",
       "2  0.184595  0.599866  0.369625  0.661417\n",
       "3  0.161397  0.530607  0.594128  0.264383\n",
       "4  0.357020  0.814967  0.993498  0.997930"
      ]
     },
     "execution_count": 36,
     "metadata": {},
     "output_type": "execute_result"
    }
   ],
   "source": [
    "df"
   ]
  },
  {
   "cell_type": "code",
   "execution_count": 38,
   "id": "63d5e13e",
   "metadata": {},
   "outputs": [],
   "source": [
    "df = pd.DataFrame(np.random.rand(5,4),columns=['amit','priyali','pranali','rajat'])"
   ]
  },
  {
   "cell_type": "code",
   "execution_count": 39,
   "id": "9155b2e2",
   "metadata": {},
   "outputs": [
    {
     "data": {
      "text/html": [
       "<div>\n",
       "<style scoped>\n",
       "    .dataframe tbody tr th:only-of-type {\n",
       "        vertical-align: middle;\n",
       "    }\n",
       "\n",
       "    .dataframe tbody tr th {\n",
       "        vertical-align: top;\n",
       "    }\n",
       "\n",
       "    .dataframe thead th {\n",
       "        text-align: right;\n",
       "    }\n",
       "</style>\n",
       "<table border=\"1\" class=\"dataframe\">\n",
       "  <thead>\n",
       "    <tr style=\"text-align: right;\">\n",
       "      <th></th>\n",
       "      <th>amit</th>\n",
       "      <th>priyali</th>\n",
       "      <th>pranali</th>\n",
       "      <th>rajat</th>\n",
       "    </tr>\n",
       "  </thead>\n",
       "  <tbody>\n",
       "    <tr>\n",
       "      <th>0</th>\n",
       "      <td>0.525127</td>\n",
       "      <td>0.166887</td>\n",
       "      <td>0.226369</td>\n",
       "      <td>0.041727</td>\n",
       "    </tr>\n",
       "    <tr>\n",
       "      <th>1</th>\n",
       "      <td>0.809799</td>\n",
       "      <td>0.050144</td>\n",
       "      <td>0.632726</td>\n",
       "      <td>0.138393</td>\n",
       "    </tr>\n",
       "    <tr>\n",
       "      <th>2</th>\n",
       "      <td>0.490751</td>\n",
       "      <td>0.297985</td>\n",
       "      <td>0.124797</td>\n",
       "      <td>0.343482</td>\n",
       "    </tr>\n",
       "    <tr>\n",
       "      <th>3</th>\n",
       "      <td>0.200577</td>\n",
       "      <td>0.901302</td>\n",
       "      <td>0.620145</td>\n",
       "      <td>0.209857</td>\n",
       "    </tr>\n",
       "    <tr>\n",
       "      <th>4</th>\n",
       "      <td>0.782663</td>\n",
       "      <td>0.934342</td>\n",
       "      <td>0.115683</td>\n",
       "      <td>0.900204</td>\n",
       "    </tr>\n",
       "  </tbody>\n",
       "</table>\n",
       "</div>"
      ],
      "text/plain": [
       "       amit   priyali   pranali     rajat\n",
       "0  0.525127  0.166887  0.226369  0.041727\n",
       "1  0.809799  0.050144  0.632726  0.138393\n",
       "2  0.490751  0.297985  0.124797  0.343482\n",
       "3  0.200577  0.901302  0.620145  0.209857\n",
       "4  0.782663  0.934342  0.115683  0.900204"
      ]
     },
     "execution_count": 39,
     "metadata": {},
     "output_type": "execute_result"
    }
   ],
   "source": [
    "df"
   ]
  },
  {
   "cell_type": "code",
   "execution_count": 41,
   "id": "a0c55fde",
   "metadata": {},
   "outputs": [],
   "source": [
    "df = pd.DataFrame(np.random.rand(5,4),columns=['amit','priyali','pranali','rajat'],index=['u','t','l','p','i'])"
   ]
  },
  {
   "cell_type": "code",
   "execution_count": 42,
   "id": "648bb43f",
   "metadata": {},
   "outputs": [],
   "source": [
    "df1 = pd.DataFrame(np.random.rand(3,2))"
   ]
  },
  {
   "cell_type": "code",
   "execution_count": 43,
   "id": "7c6e98f1",
   "metadata": {},
   "outputs": [
    {
     "data": {
      "text/html": [
       "<div>\n",
       "<style scoped>\n",
       "    .dataframe tbody tr th:only-of-type {\n",
       "        vertical-align: middle;\n",
       "    }\n",
       "\n",
       "    .dataframe tbody tr th {\n",
       "        vertical-align: top;\n",
       "    }\n",
       "\n",
       "    .dataframe thead th {\n",
       "        text-align: right;\n",
       "    }\n",
       "</style>\n",
       "<table border=\"1\" class=\"dataframe\">\n",
       "  <thead>\n",
       "    <tr style=\"text-align: right;\">\n",
       "      <th></th>\n",
       "      <th>0</th>\n",
       "      <th>1</th>\n",
       "    </tr>\n",
       "  </thead>\n",
       "  <tbody>\n",
       "    <tr>\n",
       "      <th>0</th>\n",
       "      <td>0.098960</td>\n",
       "      <td>0.408026</td>\n",
       "    </tr>\n",
       "    <tr>\n",
       "      <th>1</th>\n",
       "      <td>0.134048</td>\n",
       "      <td>0.602266</td>\n",
       "    </tr>\n",
       "    <tr>\n",
       "      <th>2</th>\n",
       "      <td>0.360636</td>\n",
       "      <td>0.966643</td>\n",
       "    </tr>\n",
       "  </tbody>\n",
       "</table>\n",
       "</div>"
      ],
      "text/plain": [
       "          0         1\n",
       "0  0.098960  0.408026\n",
       "1  0.134048  0.602266\n",
       "2  0.360636  0.966643"
      ]
     },
     "execution_count": 43,
     "metadata": {},
     "output_type": "execute_result"
    }
   ],
   "source": [
    "df1"
   ]
  },
  {
   "cell_type": "code",
   "execution_count": 44,
   "id": "c645b2c3",
   "metadata": {},
   "outputs": [],
   "source": [
    "# revert columns"
   ]
  },
  {
   "cell_type": "code",
   "execution_count": 45,
   "id": "5046c929",
   "metadata": {},
   "outputs": [
    {
     "data": {
      "text/plain": [
       "u    0.606786\n",
       "t    0.918122\n",
       "l    0.195099\n",
       "p    0.478036\n",
       "i    0.286435\n",
       "Name: amit, dtype: float64"
      ]
     },
     "execution_count": 45,
     "metadata": {},
     "output_type": "execute_result"
    }
   ],
   "source": [
    "df['amit']"
   ]
  },
  {
   "cell_type": "code",
   "execution_count": 46,
   "id": "7b35cc90",
   "metadata": {},
   "outputs": [
    {
     "data": {
      "text/html": [
       "<div>\n",
       "<style scoped>\n",
       "    .dataframe tbody tr th:only-of-type {\n",
       "        vertical-align: middle;\n",
       "    }\n",
       "\n",
       "    .dataframe tbody tr th {\n",
       "        vertical-align: top;\n",
       "    }\n",
       "\n",
       "    .dataframe thead th {\n",
       "        text-align: right;\n",
       "    }\n",
       "</style>\n",
       "<table border=\"1\" class=\"dataframe\">\n",
       "  <thead>\n",
       "    <tr style=\"text-align: right;\">\n",
       "      <th></th>\n",
       "      <th>priyali</th>\n",
       "      <th>pranali</th>\n",
       "    </tr>\n",
       "  </thead>\n",
       "  <tbody>\n",
       "    <tr>\n",
       "      <th>u</th>\n",
       "      <td>0.635979</td>\n",
       "      <td>0.593051</td>\n",
       "    </tr>\n",
       "    <tr>\n",
       "      <th>t</th>\n",
       "      <td>0.620106</td>\n",
       "      <td>0.876047</td>\n",
       "    </tr>\n",
       "    <tr>\n",
       "      <th>l</th>\n",
       "      <td>0.126947</td>\n",
       "      <td>0.927014</td>\n",
       "    </tr>\n",
       "    <tr>\n",
       "      <th>p</th>\n",
       "      <td>0.455183</td>\n",
       "      <td>0.132766</td>\n",
       "    </tr>\n",
       "    <tr>\n",
       "      <th>i</th>\n",
       "      <td>0.326792</td>\n",
       "      <td>0.064754</td>\n",
       "    </tr>\n",
       "  </tbody>\n",
       "</table>\n",
       "</div>"
      ],
      "text/plain": [
       "    priyali   pranali\n",
       "u  0.635979  0.593051\n",
       "t  0.620106  0.876047\n",
       "l  0.126947  0.927014\n",
       "p  0.455183  0.132766\n",
       "i  0.326792  0.064754"
      ]
     },
     "execution_count": 46,
     "metadata": {},
     "output_type": "execute_result"
    }
   ],
   "source": [
    "df[['priyali','pranali']]"
   ]
  },
  {
   "cell_type": "code",
   "execution_count": 47,
   "id": "d04d9074",
   "metadata": {},
   "outputs": [],
   "source": [
    "df['rachna'] = [45,56,78,3,6]"
   ]
  },
  {
   "cell_type": "code",
   "execution_count": 48,
   "id": "364a7fe4",
   "metadata": {},
   "outputs": [
    {
     "data": {
      "text/html": [
       "<div>\n",
       "<style scoped>\n",
       "    .dataframe tbody tr th:only-of-type {\n",
       "        vertical-align: middle;\n",
       "    }\n",
       "\n",
       "    .dataframe tbody tr th {\n",
       "        vertical-align: top;\n",
       "    }\n",
       "\n",
       "    .dataframe thead th {\n",
       "        text-align: right;\n",
       "    }\n",
       "</style>\n",
       "<table border=\"1\" class=\"dataframe\">\n",
       "  <thead>\n",
       "    <tr style=\"text-align: right;\">\n",
       "      <th></th>\n",
       "      <th>amit</th>\n",
       "      <th>priyali</th>\n",
       "      <th>pranali</th>\n",
       "      <th>rajat</th>\n",
       "      <th>rachna</th>\n",
       "    </tr>\n",
       "  </thead>\n",
       "  <tbody>\n",
       "    <tr>\n",
       "      <th>u</th>\n",
       "      <td>0.606786</td>\n",
       "      <td>0.635979</td>\n",
       "      <td>0.593051</td>\n",
       "      <td>0.442918</td>\n",
       "      <td>45</td>\n",
       "    </tr>\n",
       "    <tr>\n",
       "      <th>t</th>\n",
       "      <td>0.918122</td>\n",
       "      <td>0.620106</td>\n",
       "      <td>0.876047</td>\n",
       "      <td>0.219499</td>\n",
       "      <td>56</td>\n",
       "    </tr>\n",
       "    <tr>\n",
       "      <th>l</th>\n",
       "      <td>0.195099</td>\n",
       "      <td>0.126947</td>\n",
       "      <td>0.927014</td>\n",
       "      <td>0.572037</td>\n",
       "      <td>78</td>\n",
       "    </tr>\n",
       "    <tr>\n",
       "      <th>p</th>\n",
       "      <td>0.478036</td>\n",
       "      <td>0.455183</td>\n",
       "      <td>0.132766</td>\n",
       "      <td>0.829958</td>\n",
       "      <td>3</td>\n",
       "    </tr>\n",
       "    <tr>\n",
       "      <th>i</th>\n",
       "      <td>0.286435</td>\n",
       "      <td>0.326792</td>\n",
       "      <td>0.064754</td>\n",
       "      <td>0.253604</td>\n",
       "      <td>6</td>\n",
       "    </tr>\n",
       "  </tbody>\n",
       "</table>\n",
       "</div>"
      ],
      "text/plain": [
       "       amit   priyali   pranali     rajat  rachna\n",
       "u  0.606786  0.635979  0.593051  0.442918      45\n",
       "t  0.918122  0.620106  0.876047  0.219499      56\n",
       "l  0.195099  0.126947  0.927014  0.572037      78\n",
       "p  0.478036  0.455183  0.132766  0.829958       3\n",
       "i  0.286435  0.326792  0.064754  0.253604       6"
      ]
     },
     "execution_count": 48,
     "metadata": {},
     "output_type": "execute_result"
    }
   ],
   "source": [
    "df"
   ]
  },
  {
   "cell_type": "code",
   "execution_count": 51,
   "id": "659ce0e8",
   "metadata": {},
   "outputs": [
    {
     "data": {
      "text/plain": [
       "(5, 5)"
      ]
     },
     "execution_count": 51,
     "metadata": {},
     "output_type": "execute_result"
    }
   ],
   "source": [
    "df.shape"
   ]
  },
  {
   "cell_type": "code",
   "execution_count": 54,
   "id": "cb636071",
   "metadata": {},
   "outputs": [],
   "source": [
    "df['new'] = ['r','y','u','p','t']"
   ]
  },
  {
   "cell_type": "code",
   "execution_count": 55,
   "id": "9f435ce9",
   "metadata": {},
   "outputs": [
    {
     "data": {
      "text/html": [
       "<div>\n",
       "<style scoped>\n",
       "    .dataframe tbody tr th:only-of-type {\n",
       "        vertical-align: middle;\n",
       "    }\n",
       "\n",
       "    .dataframe tbody tr th {\n",
       "        vertical-align: top;\n",
       "    }\n",
       "\n",
       "    .dataframe thead th {\n",
       "        text-align: right;\n",
       "    }\n",
       "</style>\n",
       "<table border=\"1\" class=\"dataframe\">\n",
       "  <thead>\n",
       "    <tr style=\"text-align: right;\">\n",
       "      <th></th>\n",
       "      <th>amit</th>\n",
       "      <th>priyali</th>\n",
       "      <th>pranali</th>\n",
       "      <th>rajat</th>\n",
       "      <th>rachna</th>\n",
       "      <th>new</th>\n",
       "    </tr>\n",
       "  </thead>\n",
       "  <tbody>\n",
       "    <tr>\n",
       "      <th>u</th>\n",
       "      <td>0.606786</td>\n",
       "      <td>0.635979</td>\n",
       "      <td>0.593051</td>\n",
       "      <td>0.442918</td>\n",
       "      <td>45</td>\n",
       "      <td>r</td>\n",
       "    </tr>\n",
       "    <tr>\n",
       "      <th>t</th>\n",
       "      <td>0.918122</td>\n",
       "      <td>0.620106</td>\n",
       "      <td>0.876047</td>\n",
       "      <td>0.219499</td>\n",
       "      <td>56</td>\n",
       "      <td>y</td>\n",
       "    </tr>\n",
       "    <tr>\n",
       "      <th>l</th>\n",
       "      <td>0.195099</td>\n",
       "      <td>0.126947</td>\n",
       "      <td>0.927014</td>\n",
       "      <td>0.572037</td>\n",
       "      <td>78</td>\n",
       "      <td>u</td>\n",
       "    </tr>\n",
       "    <tr>\n",
       "      <th>p</th>\n",
       "      <td>0.478036</td>\n",
       "      <td>0.455183</td>\n",
       "      <td>0.132766</td>\n",
       "      <td>0.829958</td>\n",
       "      <td>3</td>\n",
       "      <td>p</td>\n",
       "    </tr>\n",
       "    <tr>\n",
       "      <th>i</th>\n",
       "      <td>0.286435</td>\n",
       "      <td>0.326792</td>\n",
       "      <td>0.064754</td>\n",
       "      <td>0.253604</td>\n",
       "      <td>6</td>\n",
       "      <td>t</td>\n",
       "    </tr>\n",
       "  </tbody>\n",
       "</table>\n",
       "</div>"
      ],
      "text/plain": [
       "       amit   priyali   pranali     rajat  rachna new\n",
       "u  0.606786  0.635979  0.593051  0.442918      45   r\n",
       "t  0.918122  0.620106  0.876047  0.219499      56   y\n",
       "l  0.195099  0.126947  0.927014  0.572037      78   u\n",
       "p  0.478036  0.455183  0.132766  0.829958       3   p\n",
       "i  0.286435  0.326792  0.064754  0.253604       6   t"
      ]
     },
     "execution_count": 55,
     "metadata": {},
     "output_type": "execute_result"
    }
   ],
   "source": [
    "df"
   ]
  },
  {
   "cell_type": "code",
   "execution_count": 52,
   "id": "7872a562",
   "metadata": {},
   "outputs": [],
   "source": [
    "# drop"
   ]
  },
  {
   "cell_type": "code",
   "execution_count": 56,
   "id": "194ccc01",
   "metadata": {},
   "outputs": [
    {
     "data": {
      "text/html": [
       "<div>\n",
       "<style scoped>\n",
       "    .dataframe tbody tr th:only-of-type {\n",
       "        vertical-align: middle;\n",
       "    }\n",
       "\n",
       "    .dataframe tbody tr th {\n",
       "        vertical-align: top;\n",
       "    }\n",
       "\n",
       "    .dataframe thead th {\n",
       "        text-align: right;\n",
       "    }\n",
       "</style>\n",
       "<table border=\"1\" class=\"dataframe\">\n",
       "  <thead>\n",
       "    <tr style=\"text-align: right;\">\n",
       "      <th></th>\n",
       "      <th>amit</th>\n",
       "      <th>priyali</th>\n",
       "      <th>pranali</th>\n",
       "      <th>rajat</th>\n",
       "      <th>rachna</th>\n",
       "    </tr>\n",
       "  </thead>\n",
       "  <tbody>\n",
       "    <tr>\n",
       "      <th>u</th>\n",
       "      <td>0.606786</td>\n",
       "      <td>0.635979</td>\n",
       "      <td>0.593051</td>\n",
       "      <td>0.442918</td>\n",
       "      <td>45</td>\n",
       "    </tr>\n",
       "    <tr>\n",
       "      <th>t</th>\n",
       "      <td>0.918122</td>\n",
       "      <td>0.620106</td>\n",
       "      <td>0.876047</td>\n",
       "      <td>0.219499</td>\n",
       "      <td>56</td>\n",
       "    </tr>\n",
       "    <tr>\n",
       "      <th>l</th>\n",
       "      <td>0.195099</td>\n",
       "      <td>0.126947</td>\n",
       "      <td>0.927014</td>\n",
       "      <td>0.572037</td>\n",
       "      <td>78</td>\n",
       "    </tr>\n",
       "    <tr>\n",
       "      <th>p</th>\n",
       "      <td>0.478036</td>\n",
       "      <td>0.455183</td>\n",
       "      <td>0.132766</td>\n",
       "      <td>0.829958</td>\n",
       "      <td>3</td>\n",
       "    </tr>\n",
       "    <tr>\n",
       "      <th>i</th>\n",
       "      <td>0.286435</td>\n",
       "      <td>0.326792</td>\n",
       "      <td>0.064754</td>\n",
       "      <td>0.253604</td>\n",
       "      <td>6</td>\n",
       "    </tr>\n",
       "  </tbody>\n",
       "</table>\n",
       "</div>"
      ],
      "text/plain": [
       "       amit   priyali   pranali     rajat  rachna\n",
       "u  0.606786  0.635979  0.593051  0.442918      45\n",
       "t  0.918122  0.620106  0.876047  0.219499      56\n",
       "l  0.195099  0.126947  0.927014  0.572037      78\n",
       "p  0.478036  0.455183  0.132766  0.829958       3\n",
       "i  0.286435  0.326792  0.064754  0.253604       6"
      ]
     },
     "execution_count": 56,
     "metadata": {},
     "output_type": "execute_result"
    }
   ],
   "source": [
    "# row ----> (axis = 0), columns ----> (axis=1)\n",
    "df.drop('new',axis=1) "
   ]
  },
  {
   "cell_type": "code",
   "execution_count": 57,
   "id": "0f2db00d",
   "metadata": {},
   "outputs": [
    {
     "data": {
      "text/plain": [
       "(5, 6)"
      ]
     },
     "execution_count": 57,
     "metadata": {},
     "output_type": "execute_result"
    }
   ],
   "source": [
    "df.shape"
   ]
  },
  {
   "cell_type": "code",
   "execution_count": 58,
   "id": "9caa947e",
   "metadata": {},
   "outputs": [],
   "source": [
    "df.drop('new',axis=1,inplace=True)"
   ]
  },
  {
   "cell_type": "code",
   "execution_count": 59,
   "id": "a29120fc",
   "metadata": {},
   "outputs": [
    {
     "data": {
      "text/html": [
       "<div>\n",
       "<style scoped>\n",
       "    .dataframe tbody tr th:only-of-type {\n",
       "        vertical-align: middle;\n",
       "    }\n",
       "\n",
       "    .dataframe tbody tr th {\n",
       "        vertical-align: top;\n",
       "    }\n",
       "\n",
       "    .dataframe thead th {\n",
       "        text-align: right;\n",
       "    }\n",
       "</style>\n",
       "<table border=\"1\" class=\"dataframe\">\n",
       "  <thead>\n",
       "    <tr style=\"text-align: right;\">\n",
       "      <th></th>\n",
       "      <th>amit</th>\n",
       "      <th>priyali</th>\n",
       "      <th>pranali</th>\n",
       "      <th>rajat</th>\n",
       "      <th>rachna</th>\n",
       "    </tr>\n",
       "  </thead>\n",
       "  <tbody>\n",
       "    <tr>\n",
       "      <th>u</th>\n",
       "      <td>0.606786</td>\n",
       "      <td>0.635979</td>\n",
       "      <td>0.593051</td>\n",
       "      <td>0.442918</td>\n",
       "      <td>45</td>\n",
       "    </tr>\n",
       "    <tr>\n",
       "      <th>t</th>\n",
       "      <td>0.918122</td>\n",
       "      <td>0.620106</td>\n",
       "      <td>0.876047</td>\n",
       "      <td>0.219499</td>\n",
       "      <td>56</td>\n",
       "    </tr>\n",
       "    <tr>\n",
       "      <th>l</th>\n",
       "      <td>0.195099</td>\n",
       "      <td>0.126947</td>\n",
       "      <td>0.927014</td>\n",
       "      <td>0.572037</td>\n",
       "      <td>78</td>\n",
       "    </tr>\n",
       "    <tr>\n",
       "      <th>p</th>\n",
       "      <td>0.478036</td>\n",
       "      <td>0.455183</td>\n",
       "      <td>0.132766</td>\n",
       "      <td>0.829958</td>\n",
       "      <td>3</td>\n",
       "    </tr>\n",
       "    <tr>\n",
       "      <th>i</th>\n",
       "      <td>0.286435</td>\n",
       "      <td>0.326792</td>\n",
       "      <td>0.064754</td>\n",
       "      <td>0.253604</td>\n",
       "      <td>6</td>\n",
       "    </tr>\n",
       "  </tbody>\n",
       "</table>\n",
       "</div>"
      ],
      "text/plain": [
       "       amit   priyali   pranali     rajat  rachna\n",
       "u  0.606786  0.635979  0.593051  0.442918      45\n",
       "t  0.918122  0.620106  0.876047  0.219499      56\n",
       "l  0.195099  0.126947  0.927014  0.572037      78\n",
       "p  0.478036  0.455183  0.132766  0.829958       3\n",
       "i  0.286435  0.326792  0.064754  0.253604       6"
      ]
     },
     "execution_count": 59,
     "metadata": {},
     "output_type": "execute_result"
    }
   ],
   "source": [
    "df"
   ]
  },
  {
   "cell_type": "code",
   "execution_count": 61,
   "id": "be180ac5",
   "metadata": {},
   "outputs": [
    {
     "data": {
      "text/html": [
       "<div>\n",
       "<style scoped>\n",
       "    .dataframe tbody tr th:only-of-type {\n",
       "        vertical-align: middle;\n",
       "    }\n",
       "\n",
       "    .dataframe tbody tr th {\n",
       "        vertical-align: top;\n",
       "    }\n",
       "\n",
       "    .dataframe thead th {\n",
       "        text-align: right;\n",
       "    }\n",
       "</style>\n",
       "<table border=\"1\" class=\"dataframe\">\n",
       "  <thead>\n",
       "    <tr style=\"text-align: right;\">\n",
       "      <th></th>\n",
       "      <th>amit</th>\n",
       "      <th>priyali</th>\n",
       "      <th>pranali</th>\n",
       "      <th>rajat</th>\n",
       "    </tr>\n",
       "  </thead>\n",
       "  <tbody>\n",
       "    <tr>\n",
       "      <th>u</th>\n",
       "      <td>0.606786</td>\n",
       "      <td>0.635979</td>\n",
       "      <td>0.593051</td>\n",
       "      <td>0.442918</td>\n",
       "    </tr>\n",
       "    <tr>\n",
       "      <th>t</th>\n",
       "      <td>0.918122</td>\n",
       "      <td>0.620106</td>\n",
       "      <td>0.876047</td>\n",
       "      <td>0.219499</td>\n",
       "    </tr>\n",
       "    <tr>\n",
       "      <th>l</th>\n",
       "      <td>0.195099</td>\n",
       "      <td>0.126947</td>\n",
       "      <td>0.927014</td>\n",
       "      <td>0.572037</td>\n",
       "    </tr>\n",
       "    <tr>\n",
       "      <th>p</th>\n",
       "      <td>0.478036</td>\n",
       "      <td>0.455183</td>\n",
       "      <td>0.132766</td>\n",
       "      <td>0.829958</td>\n",
       "    </tr>\n",
       "    <tr>\n",
       "      <th>i</th>\n",
       "      <td>0.286435</td>\n",
       "      <td>0.326792</td>\n",
       "      <td>0.064754</td>\n",
       "      <td>0.253604</td>\n",
       "    </tr>\n",
       "  </tbody>\n",
       "</table>\n",
       "</div>"
      ],
      "text/plain": [
       "       amit   priyali   pranali     rajat\n",
       "u  0.606786  0.635979  0.593051  0.442918\n",
       "t  0.918122  0.620106  0.876047  0.219499\n",
       "l  0.195099  0.126947  0.927014  0.572037\n",
       "p  0.478036  0.455183  0.132766  0.829958\n",
       "i  0.286435  0.326792  0.064754  0.253604"
      ]
     },
     "execution_count": 61,
     "metadata": {},
     "output_type": "execute_result"
    }
   ],
   "source": [
    "df.drop('rachna',axis=1)"
   ]
  },
  {
   "cell_type": "code",
   "execution_count": 62,
   "id": "fdadf184",
   "metadata": {},
   "outputs": [
    {
     "data": {
      "text/html": [
       "<div>\n",
       "<style scoped>\n",
       "    .dataframe tbody tr th:only-of-type {\n",
       "        vertical-align: middle;\n",
       "    }\n",
       "\n",
       "    .dataframe tbody tr th {\n",
       "        vertical-align: top;\n",
       "    }\n",
       "\n",
       "    .dataframe thead th {\n",
       "        text-align: right;\n",
       "    }\n",
       "</style>\n",
       "<table border=\"1\" class=\"dataframe\">\n",
       "  <thead>\n",
       "    <tr style=\"text-align: right;\">\n",
       "      <th></th>\n",
       "      <th>amit</th>\n",
       "      <th>priyali</th>\n",
       "      <th>pranali</th>\n",
       "      <th>rajat</th>\n",
       "      <th>rachna</th>\n",
       "    </tr>\n",
       "  </thead>\n",
       "  <tbody>\n",
       "    <tr>\n",
       "      <th>u</th>\n",
       "      <td>0.606786</td>\n",
       "      <td>0.635979</td>\n",
       "      <td>0.593051</td>\n",
       "      <td>0.442918</td>\n",
       "      <td>45</td>\n",
       "    </tr>\n",
       "    <tr>\n",
       "      <th>t</th>\n",
       "      <td>0.918122</td>\n",
       "      <td>0.620106</td>\n",
       "      <td>0.876047</td>\n",
       "      <td>0.219499</td>\n",
       "      <td>56</td>\n",
       "    </tr>\n",
       "    <tr>\n",
       "      <th>l</th>\n",
       "      <td>0.195099</td>\n",
       "      <td>0.126947</td>\n",
       "      <td>0.927014</td>\n",
       "      <td>0.572037</td>\n",
       "      <td>78</td>\n",
       "    </tr>\n",
       "    <tr>\n",
       "      <th>p</th>\n",
       "      <td>0.478036</td>\n",
       "      <td>0.455183</td>\n",
       "      <td>0.132766</td>\n",
       "      <td>0.829958</td>\n",
       "      <td>3</td>\n",
       "    </tr>\n",
       "    <tr>\n",
       "      <th>i</th>\n",
       "      <td>0.286435</td>\n",
       "      <td>0.326792</td>\n",
       "      <td>0.064754</td>\n",
       "      <td>0.253604</td>\n",
       "      <td>6</td>\n",
       "    </tr>\n",
       "  </tbody>\n",
       "</table>\n",
       "</div>"
      ],
      "text/plain": [
       "       amit   priyali   pranali     rajat  rachna\n",
       "u  0.606786  0.635979  0.593051  0.442918      45\n",
       "t  0.918122  0.620106  0.876047  0.219499      56\n",
       "l  0.195099  0.126947  0.927014  0.572037      78\n",
       "p  0.478036  0.455183  0.132766  0.829958       3\n",
       "i  0.286435  0.326792  0.064754  0.253604       6"
      ]
     },
     "execution_count": 62,
     "metadata": {},
     "output_type": "execute_result"
    }
   ],
   "source": [
    "df"
   ]
  },
  {
   "cell_type": "code",
   "execution_count": 63,
   "id": "38d124d1",
   "metadata": {},
   "outputs": [],
   "source": [
    "df.drop('rachna',axis=1,inplace=True)"
   ]
  },
  {
   "cell_type": "code",
   "execution_count": 64,
   "id": "25742643",
   "metadata": {},
   "outputs": [
    {
     "data": {
      "text/html": [
       "<div>\n",
       "<style scoped>\n",
       "    .dataframe tbody tr th:only-of-type {\n",
       "        vertical-align: middle;\n",
       "    }\n",
       "\n",
       "    .dataframe tbody tr th {\n",
       "        vertical-align: top;\n",
       "    }\n",
       "\n",
       "    .dataframe thead th {\n",
       "        text-align: right;\n",
       "    }\n",
       "</style>\n",
       "<table border=\"1\" class=\"dataframe\">\n",
       "  <thead>\n",
       "    <tr style=\"text-align: right;\">\n",
       "      <th></th>\n",
       "      <th>amit</th>\n",
       "      <th>priyali</th>\n",
       "      <th>pranali</th>\n",
       "      <th>rajat</th>\n",
       "    </tr>\n",
       "  </thead>\n",
       "  <tbody>\n",
       "    <tr>\n",
       "      <th>u</th>\n",
       "      <td>0.606786</td>\n",
       "      <td>0.635979</td>\n",
       "      <td>0.593051</td>\n",
       "      <td>0.442918</td>\n",
       "    </tr>\n",
       "    <tr>\n",
       "      <th>t</th>\n",
       "      <td>0.918122</td>\n",
       "      <td>0.620106</td>\n",
       "      <td>0.876047</td>\n",
       "      <td>0.219499</td>\n",
       "    </tr>\n",
       "    <tr>\n",
       "      <th>l</th>\n",
       "      <td>0.195099</td>\n",
       "      <td>0.126947</td>\n",
       "      <td>0.927014</td>\n",
       "      <td>0.572037</td>\n",
       "    </tr>\n",
       "    <tr>\n",
       "      <th>p</th>\n",
       "      <td>0.478036</td>\n",
       "      <td>0.455183</td>\n",
       "      <td>0.132766</td>\n",
       "      <td>0.829958</td>\n",
       "    </tr>\n",
       "    <tr>\n",
       "      <th>i</th>\n",
       "      <td>0.286435</td>\n",
       "      <td>0.326792</td>\n",
       "      <td>0.064754</td>\n",
       "      <td>0.253604</td>\n",
       "    </tr>\n",
       "  </tbody>\n",
       "</table>\n",
       "</div>"
      ],
      "text/plain": [
       "       amit   priyali   pranali     rajat\n",
       "u  0.606786  0.635979  0.593051  0.442918\n",
       "t  0.918122  0.620106  0.876047  0.219499\n",
       "l  0.195099  0.126947  0.927014  0.572037\n",
       "p  0.478036  0.455183  0.132766  0.829958\n",
       "i  0.286435  0.326792  0.064754  0.253604"
      ]
     },
     "execution_count": 64,
     "metadata": {},
     "output_type": "execute_result"
    }
   ],
   "source": [
    "df"
   ]
  },
  {
   "cell_type": "code",
   "execution_count": 65,
   "id": "507dd344",
   "metadata": {},
   "outputs": [],
   "source": [
    "df3 = pd.read_csv('sat.csv')"
   ]
  },
  {
   "cell_type": "code",
   "execution_count": 66,
   "id": "55b85d01",
   "metadata": {},
   "outputs": [
    {
     "data": {
      "text/html": [
       "<div>\n",
       "<style scoped>\n",
       "    .dataframe tbody tr th:only-of-type {\n",
       "        vertical-align: middle;\n",
       "    }\n",
       "\n",
       "    .dataframe tbody tr th {\n",
       "        vertical-align: top;\n",
       "    }\n",
       "\n",
       "    .dataframe thead th {\n",
       "        text-align: right;\n",
       "    }\n",
       "</style>\n",
       "<table border=\"1\" class=\"dataframe\">\n",
       "  <thead>\n",
       "    <tr style=\"text-align: right;\">\n",
       "      <th></th>\n",
       "      <th>SAT</th>\n",
       "      <th>GPA</th>\n",
       "    </tr>\n",
       "  </thead>\n",
       "  <tbody>\n",
       "    <tr>\n",
       "      <th>0</th>\n",
       "      <td>1714</td>\n",
       "      <td>2.40</td>\n",
       "    </tr>\n",
       "    <tr>\n",
       "      <th>1</th>\n",
       "      <td>1664</td>\n",
       "      <td>2.52</td>\n",
       "    </tr>\n",
       "    <tr>\n",
       "      <th>2</th>\n",
       "      <td>1760</td>\n",
       "      <td>2.54</td>\n",
       "    </tr>\n",
       "    <tr>\n",
       "      <th>3</th>\n",
       "      <td>1685</td>\n",
       "      <td>2.74</td>\n",
       "    </tr>\n",
       "    <tr>\n",
       "      <th>4</th>\n",
       "      <td>1693</td>\n",
       "      <td>2.83</td>\n",
       "    </tr>\n",
       "    <tr>\n",
       "      <th>...</th>\n",
       "      <td>...</td>\n",
       "      <td>...</td>\n",
       "    </tr>\n",
       "    <tr>\n",
       "      <th>79</th>\n",
       "      <td>1936</td>\n",
       "      <td>3.71</td>\n",
       "    </tr>\n",
       "    <tr>\n",
       "      <th>80</th>\n",
       "      <td>1810</td>\n",
       "      <td>3.71</td>\n",
       "    </tr>\n",
       "    <tr>\n",
       "      <th>81</th>\n",
       "      <td>1987</td>\n",
       "      <td>3.73</td>\n",
       "    </tr>\n",
       "    <tr>\n",
       "      <th>82</th>\n",
       "      <td>1962</td>\n",
       "      <td>3.76</td>\n",
       "    </tr>\n",
       "    <tr>\n",
       "      <th>83</th>\n",
       "      <td>2050</td>\n",
       "      <td>3.81</td>\n",
       "    </tr>\n",
       "  </tbody>\n",
       "</table>\n",
       "<p>84 rows × 2 columns</p>\n",
       "</div>"
      ],
      "text/plain": [
       "     SAT   GPA\n",
       "0   1714  2.40\n",
       "1   1664  2.52\n",
       "2   1760  2.54\n",
       "3   1685  2.74\n",
       "4   1693  2.83\n",
       "..   ...   ...\n",
       "79  1936  3.71\n",
       "80  1810  3.71\n",
       "81  1987  3.73\n",
       "82  1962  3.76\n",
       "83  2050  3.81\n",
       "\n",
       "[84 rows x 2 columns]"
      ]
     },
     "execution_count": 66,
     "metadata": {},
     "output_type": "execute_result"
    }
   ],
   "source": [
    "df3"
   ]
  },
  {
   "cell_type": "code",
   "execution_count": 67,
   "id": "cdb7aee2",
   "metadata": {},
   "outputs": [],
   "source": [
    "df4 = pd.read_csv('sat.csv')"
   ]
  },
  {
   "cell_type": "code",
   "execution_count": 69,
   "id": "66b31707",
   "metadata": {},
   "outputs": [
    {
     "data": {
      "text/html": [
       "<div>\n",
       "<style scoped>\n",
       "    .dataframe tbody tr th:only-of-type {\n",
       "        vertical-align: middle;\n",
       "    }\n",
       "\n",
       "    .dataframe tbody tr th {\n",
       "        vertical-align: top;\n",
       "    }\n",
       "\n",
       "    .dataframe thead th {\n",
       "        text-align: right;\n",
       "    }\n",
       "</style>\n",
       "<table border=\"1\" class=\"dataframe\">\n",
       "  <thead>\n",
       "    <tr style=\"text-align: right;\">\n",
       "      <th></th>\n",
       "      <th>SAT</th>\n",
       "      <th>GPA</th>\n",
       "    </tr>\n",
       "  </thead>\n",
       "  <tbody>\n",
       "    <tr>\n",
       "      <th>0</th>\n",
       "      <td>1714</td>\n",
       "      <td>2.40</td>\n",
       "    </tr>\n",
       "    <tr>\n",
       "      <th>1</th>\n",
       "      <td>1664</td>\n",
       "      <td>2.52</td>\n",
       "    </tr>\n",
       "    <tr>\n",
       "      <th>2</th>\n",
       "      <td>1760</td>\n",
       "      <td>2.54</td>\n",
       "    </tr>\n",
       "    <tr>\n",
       "      <th>3</th>\n",
       "      <td>1685</td>\n",
       "      <td>2.74</td>\n",
       "    </tr>\n",
       "    <tr>\n",
       "      <th>4</th>\n",
       "      <td>1693</td>\n",
       "      <td>2.83</td>\n",
       "    </tr>\n",
       "    <tr>\n",
       "      <th>...</th>\n",
       "      <td>...</td>\n",
       "      <td>...</td>\n",
       "    </tr>\n",
       "    <tr>\n",
       "      <th>79</th>\n",
       "      <td>1936</td>\n",
       "      <td>3.71</td>\n",
       "    </tr>\n",
       "    <tr>\n",
       "      <th>80</th>\n",
       "      <td>1810</td>\n",
       "      <td>3.71</td>\n",
       "    </tr>\n",
       "    <tr>\n",
       "      <th>81</th>\n",
       "      <td>1987</td>\n",
       "      <td>3.73</td>\n",
       "    </tr>\n",
       "    <tr>\n",
       "      <th>82</th>\n",
       "      <td>1962</td>\n",
       "      <td>3.76</td>\n",
       "    </tr>\n",
       "    <tr>\n",
       "      <th>83</th>\n",
       "      <td>2050</td>\n",
       "      <td>3.81</td>\n",
       "    </tr>\n",
       "  </tbody>\n",
       "</table>\n",
       "<p>84 rows × 2 columns</p>\n",
       "</div>"
      ],
      "text/plain": [
       "     SAT   GPA\n",
       "0   1714  2.40\n",
       "1   1664  2.52\n",
       "2   1760  2.54\n",
       "3   1685  2.74\n",
       "4   1693  2.83\n",
       "..   ...   ...\n",
       "79  1936  3.71\n",
       "80  1810  3.71\n",
       "81  1987  3.73\n",
       "82  1962  3.76\n",
       "83  2050  3.81\n",
       "\n",
       "[84 rows x 2 columns]"
      ]
     },
     "execution_count": 69,
     "metadata": {},
     "output_type": "execute_result"
    }
   ],
   "source": [
    "df4"
   ]
  }
 ],
 "metadata": {
  "kernelspec": {
   "display_name": "Python 3",
   "language": "python",
   "name": "python3"
  },
  "language_info": {
   "codemirror_mode": {
    "name": "ipython",
    "version": 3
   },
   "file_extension": ".py",
   "mimetype": "text/x-python",
   "name": "python",
   "nbconvert_exporter": "python",
   "pygments_lexer": "ipython3",
   "version": "3.8.8"
  }
 },
 "nbformat": 4,
 "nbformat_minor": 5
}
